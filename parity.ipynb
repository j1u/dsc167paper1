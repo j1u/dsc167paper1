{
 "cells": [
  {
   "cell_type": "code",
   "execution_count": 1,
   "metadata": {},
   "outputs": [],
   "source": [
    "import numpy as np\n",
    "import pandas as pd\n",
    "import matplotlib.pyplot as plt\n",
    "import seaborn as sns"
   ]
  },
  {
   "cell_type": "markdown",
   "metadata": {},
   "source": [
    "# 1. An introduction to the problem and the main conclusion of the paper."
   ]
  },
  {
   "cell_type": "markdown",
   "metadata": {},
   "source": []
  },
  {
   "cell_type": "markdown",
   "metadata": {},
   "source": [
    "# 2. A description of the historical/sociological/economic context of the studied inequity, as well as a description of the inequity itself. This section should put the inequity in the context of the qualitative theories of justice, equality, and power structures covered in class."
   ]
  },
  {
   "cell_type": "markdown",
   "metadata": {},
   "source": []
  },
  {
   "cell_type": "markdown",
   "metadata": {},
   "source": [
    "# 3. A description of the observed data and in what ways it is appropriate for investigating the inequity at hand, and in what ways it fails to capture needed information for your study (making reference to material on measurement and power in week 2. This portion will be backed by data. "
   ]
  },
  {
   "cell_type": "code",
   "execution_count": 2,
   "metadata": {},
   "outputs": [
    {
     "data": {
      "text/html": [
       "<div>\n",
       "<style scoped>\n",
       "    .dataframe tbody tr th:only-of-type {\n",
       "        vertical-align: middle;\n",
       "    }\n",
       "\n",
       "    .dataframe tbody tr th {\n",
       "        vertical-align: top;\n",
       "    }\n",
       "\n",
       "    .dataframe thead th {\n",
       "        text-align: right;\n",
       "    }\n",
       "</style>\n",
       "<table border=\"1\" class=\"dataframe\">\n",
       "  <thead>\n",
       "    <tr style=\"text-align: right;\">\n",
       "      <th></th>\n",
       "      <th>date</th>\n",
       "      <th>time</th>\n",
       "      <th>service_area</th>\n",
       "      <th>subject_age</th>\n",
       "      <th>subject_race</th>\n",
       "      <th>subject_sex</th>\n",
       "      <th>type</th>\n",
       "      <th>arrest_made</th>\n",
       "      <th>citation_issued</th>\n",
       "      <th>warning_issued</th>\n",
       "      <th>outcome</th>\n",
       "      <th>contraband_found</th>\n",
       "      <th>search_conducted</th>\n",
       "      <th>search_person</th>\n",
       "      <th>search_vehicle</th>\n",
       "      <th>search_basis</th>\n",
       "      <th>reason_for_search</th>\n",
       "      <th>reason_for_stop</th>\n",
       "      <th>raw_action_taken</th>\n",
       "      <th>raw_subject_race_description</th>\n",
       "    </tr>\n",
       "  </thead>\n",
       "  <tbody>\n",
       "    <tr>\n",
       "      <th>0</th>\n",
       "      <td>2014-01-01</td>\n",
       "      <td>01:25:00</td>\n",
       "      <td>110</td>\n",
       "      <td>24.0</td>\n",
       "      <td>white</td>\n",
       "      <td>male</td>\n",
       "      <td>vehicular</td>\n",
       "      <td>False</td>\n",
       "      <td>True</td>\n",
       "      <td>False</td>\n",
       "      <td>citation</td>\n",
       "      <td>NaN</td>\n",
       "      <td>False</td>\n",
       "      <td>False</td>\n",
       "      <td>False</td>\n",
       "      <td>NaN</td>\n",
       "      <td>NaN</td>\n",
       "      <td>Moving Violation</td>\n",
       "      <td>Citation</td>\n",
       "      <td>WHITE</td>\n",
       "    </tr>\n",
       "    <tr>\n",
       "      <th>1</th>\n",
       "      <td>2014-01-01</td>\n",
       "      <td>05:47:00</td>\n",
       "      <td>320</td>\n",
       "      <td>42.0</td>\n",
       "      <td>white</td>\n",
       "      <td>male</td>\n",
       "      <td>vehicular</td>\n",
       "      <td>False</td>\n",
       "      <td>False</td>\n",
       "      <td>True</td>\n",
       "      <td>warning</td>\n",
       "      <td>NaN</td>\n",
       "      <td>False</td>\n",
       "      <td>False</td>\n",
       "      <td>False</td>\n",
       "      <td>NaN</td>\n",
       "      <td>NaN</td>\n",
       "      <td>Moving Violation</td>\n",
       "      <td>Verbal Warning</td>\n",
       "      <td>WHITE</td>\n",
       "    </tr>\n",
       "    <tr>\n",
       "      <th>2</th>\n",
       "      <td>2014-01-01</td>\n",
       "      <td>07:46:00</td>\n",
       "      <td>320</td>\n",
       "      <td>29.0</td>\n",
       "      <td>asian/pacific islander</td>\n",
       "      <td>male</td>\n",
       "      <td>vehicular</td>\n",
       "      <td>False</td>\n",
       "      <td>False</td>\n",
       "      <td>True</td>\n",
       "      <td>warning</td>\n",
       "      <td>NaN</td>\n",
       "      <td>False</td>\n",
       "      <td>False</td>\n",
       "      <td>False</td>\n",
       "      <td>NaN</td>\n",
       "      <td>NaN</td>\n",
       "      <td>Moving Violation</td>\n",
       "      <td>Verbal Warning</td>\n",
       "      <td>LAOTIAN</td>\n",
       "    </tr>\n",
       "    <tr>\n",
       "      <th>3</th>\n",
       "      <td>2014-01-01</td>\n",
       "      <td>08:10:00</td>\n",
       "      <td>610</td>\n",
       "      <td>23.0</td>\n",
       "      <td>white</td>\n",
       "      <td>male</td>\n",
       "      <td>vehicular</td>\n",
       "      <td>False</td>\n",
       "      <td>True</td>\n",
       "      <td>False</td>\n",
       "      <td>citation</td>\n",
       "      <td>NaN</td>\n",
       "      <td>False</td>\n",
       "      <td>False</td>\n",
       "      <td>False</td>\n",
       "      <td>NaN</td>\n",
       "      <td>NaN</td>\n",
       "      <td>Moving Violation</td>\n",
       "      <td>Citation</td>\n",
       "      <td>WHITE</td>\n",
       "    </tr>\n",
       "    <tr>\n",
       "      <th>4</th>\n",
       "      <td>2014-01-01</td>\n",
       "      <td>08:35:00</td>\n",
       "      <td>930</td>\n",
       "      <td>35.0</td>\n",
       "      <td>hispanic</td>\n",
       "      <td>male</td>\n",
       "      <td>vehicular</td>\n",
       "      <td>False</td>\n",
       "      <td>True</td>\n",
       "      <td>False</td>\n",
       "      <td>citation</td>\n",
       "      <td>NaN</td>\n",
       "      <td>False</td>\n",
       "      <td>False</td>\n",
       "      <td>False</td>\n",
       "      <td>NaN</td>\n",
       "      <td>NaN</td>\n",
       "      <td>Equipment Violation</td>\n",
       "      <td>Citation</td>\n",
       "      <td>HISPANIC</td>\n",
       "    </tr>\n",
       "    <tr>\n",
       "      <th>...</th>\n",
       "      <td>...</td>\n",
       "      <td>...</td>\n",
       "      <td>...</td>\n",
       "      <td>...</td>\n",
       "      <td>...</td>\n",
       "      <td>...</td>\n",
       "      <td>...</td>\n",
       "      <td>...</td>\n",
       "      <td>...</td>\n",
       "      <td>...</td>\n",
       "      <td>...</td>\n",
       "      <td>...</td>\n",
       "      <td>...</td>\n",
       "      <td>...</td>\n",
       "      <td>...</td>\n",
       "      <td>...</td>\n",
       "      <td>...</td>\n",
       "      <td>...</td>\n",
       "      <td>...</td>\n",
       "      <td>...</td>\n",
       "    </tr>\n",
       "    <tr>\n",
       "      <th>383022</th>\n",
       "      <td>NaN</td>\n",
       "      <td>NaN</td>\n",
       "      <td>620</td>\n",
       "      <td>NaN</td>\n",
       "      <td>NaN</td>\n",
       "      <td>NaN</td>\n",
       "      <td>vehicular</td>\n",
       "      <td>NaN</td>\n",
       "      <td>True</td>\n",
       "      <td>True</td>\n",
       "      <td>citation</td>\n",
       "      <td>NaN</td>\n",
       "      <td>False</td>\n",
       "      <td>False</td>\n",
       "      <td>False</td>\n",
       "      <td>NaN</td>\n",
       "      <td>NaN</td>\n",
       "      <td>NA|Equipment Violation|NA|NA|NA|NA|NA|Moving V...</td>\n",
       "      <td>Verbal Warning|NA|Citation|Citation|NA|NA|NA|C...</td>\n",
       "      <td>NaN</td>\n",
       "    </tr>\n",
       "    <tr>\n",
       "      <th>383023</th>\n",
       "      <td>NaN</td>\n",
       "      <td>NaN</td>\n",
       "      <td>710</td>\n",
       "      <td>NaN</td>\n",
       "      <td>NaN</td>\n",
       "      <td>NaN</td>\n",
       "      <td>vehicular</td>\n",
       "      <td>NaN</td>\n",
       "      <td>True</td>\n",
       "      <td>False</td>\n",
       "      <td>citation</td>\n",
       "      <td>NaN</td>\n",
       "      <td>False</td>\n",
       "      <td>False</td>\n",
       "      <td>False</td>\n",
       "      <td>NaN</td>\n",
       "      <td>NaN</td>\n",
       "      <td>NA|Moving Violation</td>\n",
       "      <td>NA|Citation</td>\n",
       "      <td>NaN</td>\n",
       "    </tr>\n",
       "    <tr>\n",
       "      <th>383024</th>\n",
       "      <td>2014-12-22</td>\n",
       "      <td>NaN</td>\n",
       "      <td>720</td>\n",
       "      <td>NaN</td>\n",
       "      <td>NaN</td>\n",
       "      <td>NaN</td>\n",
       "      <td>vehicular</td>\n",
       "      <td>False</td>\n",
       "      <td>True</td>\n",
       "      <td>False</td>\n",
       "      <td>citation</td>\n",
       "      <td>NaN</td>\n",
       "      <td>False</td>\n",
       "      <td>False</td>\n",
       "      <td>False</td>\n",
       "      <td>NaN</td>\n",
       "      <td>NaN</td>\n",
       "      <td>Moving Violation</td>\n",
       "      <td>Citation</td>\n",
       "      <td>NaN</td>\n",
       "    </tr>\n",
       "    <tr>\n",
       "      <th>383025</th>\n",
       "      <td>NaN</td>\n",
       "      <td>NaN</td>\n",
       "      <td>810</td>\n",
       "      <td>NaN</td>\n",
       "      <td>NaN</td>\n",
       "      <td>NaN</td>\n",
       "      <td>vehicular</td>\n",
       "      <td>NaN</td>\n",
       "      <td>True</td>\n",
       "      <td>False</td>\n",
       "      <td>citation</td>\n",
       "      <td>NaN</td>\n",
       "      <td>False</td>\n",
       "      <td>False</td>\n",
       "      <td>False</td>\n",
       "      <td>NaN</td>\n",
       "      <td>NaN</td>\n",
       "      <td>Moving Violation</td>\n",
       "      <td>Citation|NA</td>\n",
       "      <td>NaN</td>\n",
       "    </tr>\n",
       "    <tr>\n",
       "      <th>383026</th>\n",
       "      <td>NaN</td>\n",
       "      <td>NaN</td>\n",
       "      <td>Unknown</td>\n",
       "      <td>NaN</td>\n",
       "      <td>NaN</td>\n",
       "      <td>NaN</td>\n",
       "      <td>vehicular</td>\n",
       "      <td>NaN</td>\n",
       "      <td>True</td>\n",
       "      <td>False</td>\n",
       "      <td>citation</td>\n",
       "      <td>NaN</td>\n",
       "      <td>False</td>\n",
       "      <td>False</td>\n",
       "      <td>False</td>\n",
       "      <td>NaN</td>\n",
       "      <td>NaN</td>\n",
       "      <td>Moving Violation|Moving Violation|Moving Viola...</td>\n",
       "      <td>NA|NA|NA|NA|Citation|Citation|NA|Citation|NA|NA</td>\n",
       "      <td>NaN</td>\n",
       "    </tr>\n",
       "  </tbody>\n",
       "</table>\n",
       "<p>383027 rows × 20 columns</p>\n",
       "</div>"
      ],
      "text/plain": [
       "              date      time service_area  subject_age  \\\n",
       "0       2014-01-01  01:25:00          110         24.0   \n",
       "1       2014-01-01  05:47:00          320         42.0   \n",
       "2       2014-01-01  07:46:00          320         29.0   \n",
       "3       2014-01-01  08:10:00          610         23.0   \n",
       "4       2014-01-01  08:35:00          930         35.0   \n",
       "...            ...       ...          ...          ...   \n",
       "383022         NaN       NaN          620          NaN   \n",
       "383023         NaN       NaN          710          NaN   \n",
       "383024  2014-12-22       NaN          720          NaN   \n",
       "383025         NaN       NaN          810          NaN   \n",
       "383026         NaN       NaN      Unknown          NaN   \n",
       "\n",
       "                  subject_race subject_sex       type arrest_made  \\\n",
       "0                        white        male  vehicular       False   \n",
       "1                        white        male  vehicular       False   \n",
       "2       asian/pacific islander        male  vehicular       False   \n",
       "3                        white        male  vehicular       False   \n",
       "4                     hispanic        male  vehicular       False   \n",
       "...                        ...         ...        ...         ...   \n",
       "383022                     NaN         NaN  vehicular         NaN   \n",
       "383023                     NaN         NaN  vehicular         NaN   \n",
       "383024                     NaN         NaN  vehicular       False   \n",
       "383025                     NaN         NaN  vehicular         NaN   \n",
       "383026                     NaN         NaN  vehicular         NaN   \n",
       "\n",
       "       citation_issued warning_issued   outcome contraband_found  \\\n",
       "0                 True          False  citation              NaN   \n",
       "1                False           True   warning              NaN   \n",
       "2                False           True   warning              NaN   \n",
       "3                 True          False  citation              NaN   \n",
       "4                 True          False  citation              NaN   \n",
       "...                ...            ...       ...              ...   \n",
       "383022            True           True  citation              NaN   \n",
       "383023            True          False  citation              NaN   \n",
       "383024            True          False  citation              NaN   \n",
       "383025            True          False  citation              NaN   \n",
       "383026            True          False  citation              NaN   \n",
       "\n",
       "        search_conducted search_person search_vehicle search_basis  \\\n",
       "0                  False         False          False          NaN   \n",
       "1                  False         False          False          NaN   \n",
       "2                  False         False          False          NaN   \n",
       "3                  False         False          False          NaN   \n",
       "4                  False         False          False          NaN   \n",
       "...                  ...           ...            ...          ...   \n",
       "383022             False         False          False          NaN   \n",
       "383023             False         False          False          NaN   \n",
       "383024             False         False          False          NaN   \n",
       "383025             False         False          False          NaN   \n",
       "383026             False         False          False          NaN   \n",
       "\n",
       "       reason_for_search                                    reason_for_stop  \\\n",
       "0                    NaN                                   Moving Violation   \n",
       "1                    NaN                                   Moving Violation   \n",
       "2                    NaN                                   Moving Violation   \n",
       "3                    NaN                                   Moving Violation   \n",
       "4                    NaN                                Equipment Violation   \n",
       "...                  ...                                                ...   \n",
       "383022               NaN  NA|Equipment Violation|NA|NA|NA|NA|NA|Moving V...   \n",
       "383023               NaN                                NA|Moving Violation   \n",
       "383024               NaN                                   Moving Violation   \n",
       "383025               NaN                                   Moving Violation   \n",
       "383026               NaN  Moving Violation|Moving Violation|Moving Viola...   \n",
       "\n",
       "                                         raw_action_taken  \\\n",
       "0                                                Citation   \n",
       "1                                          Verbal Warning   \n",
       "2                                          Verbal Warning   \n",
       "3                                                Citation   \n",
       "4                                                Citation   \n",
       "...                                                   ...   \n",
       "383022  Verbal Warning|NA|Citation|Citation|NA|NA|NA|C...   \n",
       "383023                                        NA|Citation   \n",
       "383024                                           Citation   \n",
       "383025                                        Citation|NA   \n",
       "383026    NA|NA|NA|NA|Citation|Citation|NA|Citation|NA|NA   \n",
       "\n",
       "       raw_subject_race_description  \n",
       "0                             WHITE  \n",
       "1                             WHITE  \n",
       "2                           LAOTIAN  \n",
       "3                             WHITE  \n",
       "4                          HISPANIC  \n",
       "...                             ...  \n",
       "383022                          NaN  \n",
       "383023                          NaN  \n",
       "383024                          NaN  \n",
       "383025                          NaN  \n",
       "383026                          NaN  \n",
       "\n",
       "[383027 rows x 20 columns]"
      ]
     },
     "execution_count": 2,
     "metadata": {},
     "output_type": "execute_result"
    }
   ],
   "source": [
    "data = pd.read_csv('ca_san_diego_2020_04_01.csv').drop('raw_row_number', axis=1)\n",
    "data"
   ]
  },
  {
   "cell_type": "code",
   "execution_count": 3,
   "metadata": {},
   "outputs": [
    {
     "data": {
      "text/html": [
       "<div>\n",
       "<style scoped>\n",
       "    .dataframe tbody tr th:only-of-type {\n",
       "        vertical-align: middle;\n",
       "    }\n",
       "\n",
       "    .dataframe tbody tr th {\n",
       "        vertical-align: top;\n",
       "    }\n",
       "\n",
       "    .dataframe thead th {\n",
       "        text-align: right;\n",
       "    }\n",
       "</style>\n",
       "<table border=\"1\" class=\"dataframe\">\n",
       "  <thead>\n",
       "    <tr style=\"text-align: right;\">\n",
       "      <th></th>\n",
       "      <th>subject_race</th>\n",
       "      <th>% of total stops</th>\n",
       "    </tr>\n",
       "  </thead>\n",
       "  <tbody>\n",
       "    <tr>\n",
       "      <th>0</th>\n",
       "      <td>white</td>\n",
       "      <td>0.423537</td>\n",
       "    </tr>\n",
       "    <tr>\n",
       "      <th>1</th>\n",
       "      <td>hispanic</td>\n",
       "      <td>0.305678</td>\n",
       "    </tr>\n",
       "    <tr>\n",
       "      <th>2</th>\n",
       "      <td>black</td>\n",
       "      <td>0.111493</td>\n",
       "    </tr>\n",
       "    <tr>\n",
       "      <th>3</th>\n",
       "      <td>asian/pacific islander</td>\n",
       "      <td>0.084957</td>\n",
       "    </tr>\n",
       "    <tr>\n",
       "      <th>4</th>\n",
       "      <td>other</td>\n",
       "      <td>0.071112</td>\n",
       "    </tr>\n",
       "  </tbody>\n",
       "</table>\n",
       "</div>"
      ],
      "text/plain": [
       "             subject_race  % of total stops\n",
       "0                   white          0.423537\n",
       "1                hispanic          0.305678\n",
       "2                   black          0.111493\n",
       "3  asian/pacific islander          0.084957\n",
       "4                   other          0.071112"
      ]
     },
     "execution_count": 3,
     "metadata": {},
     "output_type": "execute_result"
    }
   ],
   "source": [
    "race_pct = data.value_counts('subject_race') / data.shape[0]\n",
    "race_pct.to_frame('% of total stops').reset_index()"
   ]
  },
  {
   "cell_type": "code",
   "execution_count": 4,
   "metadata": {},
   "outputs": [],
   "source": [
    "search_pct = data.pivot_table(index='subject_race', values='search_conducted', aggfunc='mean').reset_index()"
   ]
  },
  {
   "cell_type": "code",
   "execution_count": 5,
   "metadata": {},
   "outputs": [
    {
     "data": {
      "text/html": [
       "<div>\n",
       "<style scoped>\n",
       "    .dataframe tbody tr th:only-of-type {\n",
       "        vertical-align: middle;\n",
       "    }\n",
       "\n",
       "    .dataframe tbody tr th {\n",
       "        vertical-align: top;\n",
       "    }\n",
       "\n",
       "    .dataframe thead th {\n",
       "        text-align: right;\n",
       "    }\n",
       "</style>\n",
       "<table border=\"1\" class=\"dataframe\">\n",
       "  <thead>\n",
       "    <tr style=\"text-align: right;\">\n",
       "      <th></th>\n",
       "      <th>subject_race</th>\n",
       "      <th>% of stops searched</th>\n",
       "    </tr>\n",
       "  </thead>\n",
       "  <tbody>\n",
       "    <tr>\n",
       "      <th>0</th>\n",
       "      <td>asian/pacific islander</td>\n",
       "      <td>0.027965</td>\n",
       "    </tr>\n",
       "    <tr>\n",
       "      <th>1</th>\n",
       "      <td>black</td>\n",
       "      <td>0.090692</td>\n",
       "    </tr>\n",
       "    <tr>\n",
       "      <th>2</th>\n",
       "      <td>hispanic</td>\n",
       "      <td>0.055525</td>\n",
       "    </tr>\n",
       "    <tr>\n",
       "      <th>3</th>\n",
       "      <td>other</td>\n",
       "      <td>0.016558</td>\n",
       "    </tr>\n",
       "    <tr>\n",
       "      <th>4</th>\n",
       "      <td>white</td>\n",
       "      <td>0.027801</td>\n",
       "    </tr>\n",
       "  </tbody>\n",
       "</table>\n",
       "</div>"
      ],
      "text/plain": [
       "             subject_race  % of stops searched\n",
       "0  asian/pacific islander             0.027965\n",
       "1                   black             0.090692\n",
       "2                hispanic             0.055525\n",
       "3                   other             0.016558\n",
       "4                   white             0.027801"
      ]
     },
     "execution_count": 5,
     "metadata": {},
     "output_type": "execute_result"
    }
   ],
   "source": [
    "search_pct.columns = ['subject_race', '% of stops searched']\n",
    "search_pct"
   ]
  },
  {
   "cell_type": "code",
   "execution_count": 6,
   "metadata": {},
   "outputs": [
    {
     "data": {
      "image/png": "[encoded data removed]",
      "text/plain": [
       "<Figure size 1080x720 with 2 Axes>"
      ]
     },
     "metadata": {
      "needs_background": "light"
     },
     "output_type": "display_data"
    }
   ],
   "source": [
    "fig, ax = plt.subplots(1, 2, figsize=(15, 10))\n",
    "p1 = sns.barplot(x=race_pct.index, y=race_pct.values, ax=ax[0], order=['white', 'hispanic', 'black', 'asian/pacific islander', 'other'])\n",
    "p2 = sns.barplot(data=search_pct, x='subject_race', y='% of stops searched', ax=ax[1], order=['white', 'hispanic', 'black', 'asian/pacific islander', 'other'])\n",
    "p1_lab = p1.set(ylabel='% stopped', title='% of total stops by race')\n",
    "p2_lab = p2.set(ylabel='% of stops searched', title='% of stops searched by race')"
   ]
  },
  {
   "cell_type": "code",
   "execution_count": 7,
   "metadata": {},
   "outputs": [],
   "source": [
    "# tmp = data[data['search_conducted'] == 1][['subject_age', 'subject_race', 'subject_sex', 'search_conducted', 'contraband_found']]\n",
    "# tmp['contraband_found'] = tmp['contraband_found'].convert_dtypes()\n",
    "# gb = tmp.groupby('subject_race')[['contraband_found']].mean()\n",
    "# gb.reset_index()"
   ]
  },
  {
   "cell_type": "code",
   "execution_count": 8,
   "metadata": {},
   "outputs": [
    {
     "data": {
      "text/html": [
       "<div>\n",
       "<style scoped>\n",
       "    .dataframe tbody tr th:only-of-type {\n",
       "        vertical-align: middle;\n",
       "    }\n",
       "\n",
       "    .dataframe tbody tr th {\n",
       "        vertical-align: top;\n",
       "    }\n",
       "\n",
       "    .dataframe thead th {\n",
       "        text-align: right;\n",
       "    }\n",
       "</style>\n",
       "<table border=\"1\" class=\"dataframe\">\n",
       "  <thead>\n",
       "    <tr style=\"text-align: right;\">\n",
       "      <th></th>\n",
       "      <th>subject_race</th>\n",
       "      <th>arrest_made</th>\n",
       "    </tr>\n",
       "  </thead>\n",
       "  <tbody>\n",
       "    <tr>\n",
       "      <th>0</th>\n",
       "      <td>asian/pacific islander</td>\n",
       "      <td>0.010286</td>\n",
       "    </tr>\n",
       "    <tr>\n",
       "      <th>1</th>\n",
       "      <td>black</td>\n",
       "      <td>0.021726</td>\n",
       "    </tr>\n",
       "    <tr>\n",
       "      <th>2</th>\n",
       "      <td>hispanic</td>\n",
       "      <td>0.016527</td>\n",
       "    </tr>\n",
       "    <tr>\n",
       "      <th>3</th>\n",
       "      <td>other</td>\n",
       "      <td>0.006513</td>\n",
       "    </tr>\n",
       "    <tr>\n",
       "      <th>4</th>\n",
       "      <td>white</td>\n",
       "      <td>0.011836</td>\n",
       "    </tr>\n",
       "  </tbody>\n",
       "</table>\n",
       "</div>"
      ],
      "text/plain": [
       "             subject_race  arrest_made\n",
       "0  asian/pacific islander     0.010286\n",
       "1                   black     0.021726\n",
       "2                hispanic     0.016527\n",
       "3                   other     0.006513\n",
       "4                   white     0.011836"
      ]
     },
     "execution_count": 8,
     "metadata": {},
     "output_type": "execute_result"
    }
   ],
   "source": [
    "gb = data.groupby('subject_race')[['arrest_made']].mean().reset_index()\n",
    "gb"
   ]
  },
  {
   "cell_type": "code",
   "execution_count": 9,
   "metadata": {},
   "outputs": [
    {
     "data": {
      "image/png": "[encoded data removed]",
      "text/plain": [
       "<Figure size 720x360 with 1 Axes>"
      ]
     },
     "metadata": {
      "needs_background": "light"
     },
     "output_type": "display_data"
    }
   ],
   "source": [
    "fig, ax = plt.subplots(1, 1, figsize=(10, 5))\n",
    "p3 = sns.barplot(x=gb['subject_race'], y=gb['arrest_made'], ax=ax, order=['white', 'hispanic', 'black', 'asian/pacific islander', 'other'])"
   ]
  },
  {
   "cell_type": "code",
   "execution_count": 10,
   "metadata": {},
   "outputs": [],
   "source": [
    "# gb = data.groupby('subject_race')[['warning_issued']].mean().reset_index()\n",
    "# gb"
   ]
  },
  {
   "cell_type": "code",
   "execution_count": 11,
   "metadata": {},
   "outputs": [],
   "source": [
    "# gb = data.groupby('subject_race')[['citation_issued']].mean().reset_index()\n",
    "# gb"
   ]
  },
  {
   "cell_type": "code",
   "execution_count": 12,
   "metadata": {},
   "outputs": [],
   "source": [
    "# fig, ax = plt.subplots(1, 1, figsize=(10, 5))\n",
    "# p3 = sns.barplot(x=gb.index, y=gb.values.flatten(), ax=ax, order=['white', 'hispanic', 'black', 'asian/pacific islander', 'other'])\n",
    "# p3_lab = p3.set(ylabel='% contraband found', title='% contraband found by race')"
   ]
  },
  {
   "cell_type": "markdown",
   "metadata": {},
   "source": [
    "# 4. A description of the quantitative measures of fairness that you used in your investigation, why they are appropriate for the given context, alongside the results of those calculations."
   ]
  },
  {
   "cell_type": "code",
   "execution_count": 13,
   "metadata": {},
   "outputs": [
    {
     "data": {
      "text/plain": [
       "0.30654011158831"
      ]
     },
     "execution_count": 13,
     "metadata": {},
     "output_type": "execute_result"
    }
   ],
   "source": [
    "# disparate impact white searches / black searches\n",
    "search_pct['% of stops searched'][4] / search_pct['% of stops searched'][1]"
   ]
  },
  {
   "cell_type": "code",
   "execution_count": 14,
   "metadata": {},
   "outputs": [
    {
     "data": {
      "text/plain": [
       "0.500690968541453"
      ]
     },
     "execution_count": 14,
     "metadata": {},
     "output_type": "execute_result"
    }
   ],
   "source": [
    "# disparate impact white searches / hispanic searches\n",
    "search_pct['% of stops searched'][4] / search_pct['% of stops searched'][2] "
   ]
  },
  {
   "cell_type": "code",
   "execution_count": 15,
   "metadata": {},
   "outputs": [
    {
     "data": {
      "text/plain": [
       "0.5447636502794151"
      ]
     },
     "execution_count": 15,
     "metadata": {},
     "output_type": "execute_result"
    }
   ],
   "source": [
    "# disparate impact white arrests / black arrests\n",
    "gb['arrest_made'][4] / gb['arrest_made'][1] "
   ]
  },
  {
   "cell_type": "code",
   "execution_count": 16,
   "metadata": {},
   "outputs": [
    {
     "data": {
      "text/plain": [
       "0.7161615278758832"
      ]
     },
     "execution_count": 16,
     "metadata": {},
     "output_type": "execute_result"
    }
   ],
   "source": [
    "# disparate impact white arrests / hispanic arrests\n",
    "gb['arrest_made'][4] / gb['arrest_made'][2] "
   ]
  },
  {
   "cell_type": "code",
   "execution_count": 17,
   "metadata": {},
   "outputs": [],
   "source": [
    "# # tp parity\n",
    "# tp = data[(data['search_conducted'] == 1) & (data['contraband_found'] == 1)]\n",
    "# tp_gb = (tp.groupby('subject_race').size() / tp.shape[0]).reset_index()\n",
    "# tp_gb.columns = ['subject_race', 'true positive %']\n",
    "# tp_gb"
   ]
  },
  {
   "cell_type": "code",
   "execution_count": 18,
   "metadata": {},
   "outputs": [],
   "source": [
    "# # fp parity\n",
    "# fp = data[(data['search_conducted'] == 1) & (data['contraband_found'] == 0)]\n",
    "# fp_gb = (fp.groupby('subject_race').size() / fp.shape[0]).reset_index()\n",
    "# fp_gb.columns = ['subject_race', 'false positive %']\n",
    "# fp_gb"
   ]
  },
  {
   "cell_type": "code",
   "execution_count": 19,
   "metadata": {},
   "outputs": [],
   "source": [
    "# fig, ax = plt.subplots(1, 2, figsize=(15, 5))\n",
    "# p4 = sns.barplot(x=tp_gb['subject_race'], y=tp_gb['true positive %'], ax=ax[0], order=['white', 'hispanic', 'black', 'asian/pacific islander', 'other'])\n",
    "# p5 = sns.barplot(x=fp_gb['subject_race'], y=fp_gb['false positive %'], ax=ax[1], order=['white', 'hispanic', 'black', 'asian/pacific islander', 'other'])\n",
    "# p4_lab = p4.set(ylabel='true positive %', title='true positive % by race')\n",
    "# p5_lab = p5.set(ylabel='false positive %', title='false positive % by race')"
   ]
  },
  {
   "cell_type": "markdown",
   "metadata": {},
   "source": []
  },
  {
   "cell_type": "markdown",
   "metadata": {},
   "source": [
    "# 5. An interpretation of the results from (4), including informal reasoning of the cause of the inequities. If appropriate, you can discuss possible reasons your results don’t represent the inequity in a straightforward way (e.g. under/over represents it). Be specific about the limitations of your approach."
   ]
  },
  {
   "cell_type": "markdown",
   "metadata": {},
   "source": []
  }
 ],
 "metadata": {
  "interpreter": {
   "hash": "aee8b7b246df8f9039afb4144a1f6fd8d2ca17a180786b69acc140d282b71a49"
  },
  "kernelspec": {
   "display_name": "Python 3 (ipykernel)",
   "language": "python",
   "name": "python3"
  },
  "language_info": {
   "codemirror_mode": {
    "name": "ipython",
    "version": 3
   },
   "file_extension": ".py",
   "mimetype": "text/x-python",
   "name": "python",
   "nbconvert_exporter": "python",
   "pygments_lexer": "ipython3",
   "version": "3.9.5"
  }
 },
 "nbformat": 4,
 "nbformat_minor": 2
}
